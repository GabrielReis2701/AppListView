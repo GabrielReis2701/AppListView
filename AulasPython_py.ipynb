{
  "nbformat": 4,
  "nbformat_minor": 0,
  "metadata": {
    "colab": {
      "name": "AulasPython.py",
      "provenance": [],
      "collapsed_sections": [],
      "toc_visible": true,
      "authorship_tag": "ABX9TyPBWQkEn8UxUh4lwpDtEFlI",
      "include_colab_link": true
    },
    "kernelspec": {
      "name": "python3",
      "display_name": "Python 3"
    },
    "language_info": {
      "name": "python"
    },
    "gpuClass": "standard"
  },
  "cells": [
    {
      "cell_type": "markdown",
      "metadata": {
        "id": "view-in-github",
        "colab_type": "text"
      },
      "source": [
        "<a href=\"https://colab.research.google.com/github/GabrielReis2701/AppListView/blob/master/AulasPython_py.ipynb\" target=\"_parent\"><img src=\"https://colab.research.google.com/assets/colab-badge.svg\" alt=\"Open In Colab\"/></a>"
      ]
    },
    {
      "cell_type": "code",
      "execution_count": null,
      "metadata": {
        "colab": {
          "base_uri": "https://localhost:8080/"
        },
        "id": "fRZEk0QR-18Q",
        "outputId": "208e9155-c79c-4bc1-db17-5944681aae18"
      },
      "outputs": [
        {
          "output_type": "stream",
          "name": "stdout",
          "text": [
            "3\n"
          ]
        }
      ],
      "source": [
        "a = -5\n",
        "b= 8\n",
        "c = a+b\n",
        "print(c)"
      ]
    },
    {
      "cell_type": "code",
      "source": [
        "idade = int(input('Digite sua idade: '))\n",
        "print('Sua idade é : ',idade)"
      ],
      "metadata": {
        "colab": {
          "base_uri": "https://localhost:8080/"
        },
        "id": "5FWDTB8OBJTE",
        "outputId": "cc1bcc79-c889-4088-8aff-4da00a040497"
      },
      "execution_count": null,
      "outputs": [
        {
          "output_type": "stream",
          "name": "stdout",
          "text": [
            "Digite sua idade: 24\n",
            "Sua idade é :  24\n"
          ]
        }
      ]
    },
    {
      "cell_type": "code",
      "source": [
        "m = c* idade\n",
        "print(m)"
      ],
      "metadata": {
        "colab": {
          "base_uri": "https://localhost:8080/"
        },
        "id": "ghiC3UVSBnE0",
        "outputId": "168f976d-e0b8-49c2-9e52-108b7fc7f972"
      },
      "execution_count": null,
      "outputs": [
        {
          "output_type": "stream",
          "name": "stdout",
          "text": [
            "72\n"
          ]
        }
      ]
    },
    {
      "cell_type": "code",
      "source": [
        "a = 'aaaaaaaaaaaaaaaaaaaaaaaaaaaaaaaa'\n",
        "maiuscula = a.upper()\n",
        "print(maiuscula)"
      ],
      "metadata": {
        "colab": {
          "base_uri": "https://localhost:8080/"
        },
        "id": "MZUyKxG0DKXT",
        "outputId": "1a2b7f04-5484-4d51-d99b-4adff32af886"
      },
      "execution_count": null,
      "outputs": [
        {
          "output_type": "stream",
          "name": "stdout",
          "text": [
            "AAAAAAAAAAAAAAAAAAAAAAAAAAAAAAAA\n"
          ]
        }
      ]
    },
    {
      "cell_type": "code",
      "source": [
        "nome = str('gabriel reis de aquino')\n",
        "tamanho = int(len(nome))\n",
        "capital = nome.capitalize()\n",
        "print(capital)\n",
        "print(tamanho)\n",
        "i=0"
      ],
      "metadata": {
        "colab": {
          "base_uri": "https://localhost:8080/"
        },
        "id": "Dk7-JAJTDkkK",
        "outputId": "fb4d5a22-cb85-4ef8-b707-f57ee2b9a2d0"
      },
      "execution_count": null,
      "outputs": [
        {
          "output_type": "stream",
          "name": "stdout",
          "text": [
            "Gabriel reis de aquino\n",
            "22\n"
          ]
        }
      ]
    },
    {
      "cell_type": "code",
      "source": [
        "p=nome.find(' ')\n",
        "print(p)\n",
        "nc = str(nome[0:p])\n",
        "nc = nc.capitalize()\n",
        "capital=nome[p+1:].capitalize()\n",
        "print(capital)\n",
        "print(nc)"
      ],
      "metadata": {
        "colab": {
          "base_uri": "https://localhost:8080/"
        },
        "id": "iOsyQIlpJcJC",
        "outputId": "ffeefca7-1ba4-439c-f386-74a24a9f385c"
      },
      "execution_count": null,
      "outputs": [
        {
          "output_type": "stream",
          "name": "stdout",
          "text": [
            "7\n",
            "Reis de aquino\n",
            "Gabriel\n"
          ]
        }
      ]
    },
    {
      "cell_type": "code",
      "source": [
        "a = 4**2\n",
        "b = 8**3\n",
        "c = a/b\n",
        "print(a,b,round(c,3))\n",
        "\n",
        "\n"
      ],
      "metadata": {
        "colab": {
          "base_uri": "https://localhost:8080/"
        },
        "id": "K2nDCIYDPmVX",
        "outputId": "9f46fc20-f3a2-467c-b78c-f792f4f12c9b"
      },
      "execution_count": null,
      "outputs": [
        {
          "output_type": "stream",
          "name": "stdout",
          "text": [
            "16 512 0.031\n"
          ]
        }
      ]
    },
    {
      "cell_type": "markdown",
      "source": [
        "## **Ler dois números inteiros, executar e mostrar o resultado das seguintes operações: adição, subtração, multiplicação e divisão**"
      ],
      "metadata": {
        "id": "jQhLfh_UTJsv"
      }
    },
    {
      "cell_type": "code",
      "source": [
        "a= int(input('Digite o primeiro numero: '))\n",
        "b= int(input('Digite o segundo numero: '))\n",
        "print (f'A soma de {a} e {b} é: ',abs(a+b))\n",
        "print (f'A subtração de {a} e {b} é: ',a-b)\n",
        "print (f'A multiplicação de {a} e {b} é: ',a*b)\n",
        "print (f'A divisão de {a} e {b} é: ',a/b)"
      ],
      "metadata": {
        "colab": {
          "base_uri": "https://localhost:8080/"
        },
        "id": "kjOiUWNLQhVH",
        "outputId": "d487022d-b137-4e1c-e1b3-c3abc09d9e3c"
      },
      "execution_count": null,
      "outputs": [
        {
          "output_type": "stream",
          "name": "stdout",
          "text": [
            "Digite o primeiro numero: 18\n",
            "Digite o segundo numero: 40\n",
            "A soma de 18 e 40 é:  58\n",
            "A subtração de 18 e 40 é:  -22\n",
            "A multiplicação de 18 e 40 é:  720\n",
            "A divisão de 18 e 40 é:  0.45\n"
          ]
        }
      ]
    },
    {
      "cell_type": "markdown",
      "source": [
        "## **Efetuar o cálculo da quantidade de litros de combustível gasto em uma viagem, utilizando um automóvel que faz 12 Km por litro. Para obter o cálculo, o usuário deve fornecer o tempo gasto na viagem e a velocidade média durante ela. Desta forma, será possível obter a distância percorrida com a fórmula DISTANCIA = TEMPO * VELOCIDADE. Tendo o valor da distância, basta calcular a quantidade de litros de combustível utilizada na viagem, com a fórmula: LITROS_USADOS = DISTANCIA / 12. O programa deve apresentar os valores da velocidade média, tempo gasto na viagem, a distância percorrida e a quantidade de litros utilizada na viagem**"
      ],
      "metadata": {
        "id": "DgR4Yef7TTwF"
      }
    },
    {
      "cell_type": "code",
      "source": [
        "tempo = int(input('Digite o tempo gasto na viagem(em Horas): '))\n",
        "vm = int(input('Digite a valocidade media durante a viagem(em Km/h): '))\n",
        "distancia = tempo*vm\n",
        "litros_usados = distancia/12\n",
        "print(f'\\nO tempo de duração da viagem foi {tempo} Horas \\nA velocidade media da viagem foi de {vm} Km/h \\nA distancia percorrida foi {distancia} km \\nA quantidade de litros utilizada na viagem foi {round(litros_usados,2)} litros')"
      ],
      "metadata": {
        "colab": {
          "base_uri": "https://localhost:8080/"
        },
        "id": "hdmonKATTEOO",
        "outputId": "143335ee-3262-449a-e231-966bef776d9f"
      },
      "execution_count": null,
      "outputs": [
        {
          "output_type": "stream",
          "name": "stdout",
          "text": [
            "Digite o tempo gasto na viagem(em Horas): 16\n",
            "Digite a valocidade media durante a viagem(em Km/h): 65\n",
            "\n",
            "O tempo de duração da viagem foi 16 Horas \n",
            "A velocidade media da viagem foi de 65 Km/h \n",
            "A distancia percorrida foi 1040 km \n",
            "A quantidade de litros utilizada na viagem foi 86.67 litros\n"
          ]
        }
      ]
    }
  ]
}